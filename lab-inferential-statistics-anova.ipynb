{
 "cells": [
  {
   "cell_type": "markdown",
   "id": "eccbf015-e3e9-4031-b56a-6ea7360e3756",
   "metadata": {},
   "source": [
    "### Lab | Inferential statistics - ANOVA"
   ]
  },
  {
   "cell_type": "markdown",
   "id": "a7ea3e06-cd74-479b-9b98-92e045c10056",
   "metadata": {},
   "source": [
    "#### Part 1\n",
    "In this activity, we will look at another example. Your task is to understand the problem and write down all the steps to set up ANOVA. After the next lesson, we will ask you to solve this problem using Python. Here are the steps that you would need to work on: - Null hypothesis - Alternate hypothesis - Level of significance - Test statistic - P-value - F table\n",
    "\n",
    "Steps:\n",
    "- Formulate the Null hypothesis\n",
    "- Formulate the alternate hypothesis\n",
    "- Define level of significance\n",
    "- Calculate F-statistcs and find p-value\n",
    "- Reject or accept the null hypothesis (if below 0.05 reject)\n",
    "- Conclude "
   ]
  },
  {
   "cell_type": "markdown",
   "id": "3b218e9b-c82a-4707-85e6-996af4e73ff4",
   "metadata": {},
   "source": [
    "#### Context\n",
    "Suppose you are working as an analyst in a microprocessor chip manufacturing plant. You have been given the task of analyzing a plasma etching process with respect to changing Power (in Watts) of the plasma beam. Data was collected and provided to you to conduct statistical analysis and check if changing the power of the plasma beam has any effect on the etching rate by the machine. You will conduct ANOVA and check if there is any difference in the mean etching rate for different levels of power. You can find the data anova_lab_data.xlsx file in the files_for_lab folder\n",
    "\n",
    "State the null hypothesis\n",
    "State the alternate hypothesis\n",
    "What is the significance level\n",
    "What are the degrees of freedom of model, error terms, and total DoF"
   ]
  },
  {
   "cell_type": "markdown",
   "id": "a5263e97-2751-46d6-87c0-236e33684e7f",
   "metadata": {},
   "source": [
    "Part 2\n",
    "In this section, use Python to conduct ANOVA.\n",
    "What conclusions can you draw from the experiment and why?"
   ]
  },
  {
   "cell_type": "markdown",
   "id": "7928e45a-fe0d-4cd1-a67e-8eee6a1eb233",
   "metadata": {},
   "source": [
    "### Import data plus libraries"
   ]
  },
  {
   "cell_type": "code",
   "execution_count": 2,
   "id": "6f5d31f1-cb7d-4603-b88a-9718b1145c4d",
   "metadata": {},
   "outputs": [],
   "source": [
    "import numpy as np\n",
    "import pandas as pd\n",
    "from scipy import stats"
   ]
  },
  {
   "cell_type": "code",
   "execution_count": 18,
   "id": "c17fc405-ee10-4efc-9af5-ca824970e725",
   "metadata": {},
   "outputs": [
    {
     "data": {
      "text/html": [
       "<div>\n",
       "<style scoped>\n",
       "    .dataframe tbody tr th:only-of-type {\n",
       "        vertical-align: middle;\n",
       "    }\n",
       "\n",
       "    .dataframe tbody tr th {\n",
       "        vertical-align: top;\n",
       "    }\n",
       "\n",
       "    .dataframe thead th {\n",
       "        text-align: right;\n",
       "    }\n",
       "</style>\n",
       "<table border=\"1\" class=\"dataframe\">\n",
       "  <thead>\n",
       "    <tr style=\"text-align: right;\">\n",
       "      <th></th>\n",
       "      <th>Power</th>\n",
       "      <th>Etching Rate</th>\n",
       "    </tr>\n",
       "  </thead>\n",
       "  <tbody>\n",
       "    <tr>\n",
       "      <th>0</th>\n",
       "      <td>160 W</td>\n",
       "      <td>5.43</td>\n",
       "    </tr>\n",
       "    <tr>\n",
       "      <th>1</th>\n",
       "      <td>180 W</td>\n",
       "      <td>6.24</td>\n",
       "    </tr>\n",
       "    <tr>\n",
       "      <th>2</th>\n",
       "      <td>200 W</td>\n",
       "      <td>8.79</td>\n",
       "    </tr>\n",
       "    <tr>\n",
       "      <th>3</th>\n",
       "      <td>160 W</td>\n",
       "      <td>5.71</td>\n",
       "    </tr>\n",
       "    <tr>\n",
       "      <th>4</th>\n",
       "      <td>180 W</td>\n",
       "      <td>6.71</td>\n",
       "    </tr>\n",
       "    <tr>\n",
       "      <th>5</th>\n",
       "      <td>200 W</td>\n",
       "      <td>9.20</td>\n",
       "    </tr>\n",
       "    <tr>\n",
       "      <th>6</th>\n",
       "      <td>160 W</td>\n",
       "      <td>6.22</td>\n",
       "    </tr>\n",
       "    <tr>\n",
       "      <th>7</th>\n",
       "      <td>180 W</td>\n",
       "      <td>5.98</td>\n",
       "    </tr>\n",
       "    <tr>\n",
       "      <th>8</th>\n",
       "      <td>200 W</td>\n",
       "      <td>7.90</td>\n",
       "    </tr>\n",
       "    <tr>\n",
       "      <th>9</th>\n",
       "      <td>160 W</td>\n",
       "      <td>6.01</td>\n",
       "    </tr>\n",
       "    <tr>\n",
       "      <th>10</th>\n",
       "      <td>180 W</td>\n",
       "      <td>5.66</td>\n",
       "    </tr>\n",
       "    <tr>\n",
       "      <th>11</th>\n",
       "      <td>200 W</td>\n",
       "      <td>8.15</td>\n",
       "    </tr>\n",
       "    <tr>\n",
       "      <th>12</th>\n",
       "      <td>160 W</td>\n",
       "      <td>5.59</td>\n",
       "    </tr>\n",
       "    <tr>\n",
       "      <th>13</th>\n",
       "      <td>180 W</td>\n",
       "      <td>6.60</td>\n",
       "    </tr>\n",
       "    <tr>\n",
       "      <th>14</th>\n",
       "      <td>200 W</td>\n",
       "      <td>7.55</td>\n",
       "    </tr>\n",
       "  </tbody>\n",
       "</table>\n",
       "</div>"
      ],
      "text/plain": [
       "   Power   Etching Rate\n",
       "0   160 W          5.43\n",
       "1   180 W          6.24\n",
       "2   200 W          8.79\n",
       "3   160 W          5.71\n",
       "4   180 W          6.71\n",
       "5   200 W          9.20\n",
       "6   160 W          6.22\n",
       "7   180 W          5.98\n",
       "8   200 W          7.90\n",
       "9   160 W          6.01\n",
       "10  180 W          5.66\n",
       "11  200 W          8.15\n",
       "12  160 W          5.59\n",
       "13  180 W          6.60\n",
       "14  200 W          7.55"
      ]
     },
     "execution_count": 18,
     "metadata": {},
     "output_type": "execute_result"
    }
   ],
   "source": [
    "df = pd.read_excel(\"anova_lab_data.xlsx\")\n",
    "df"
   ]
  },
  {
   "cell_type": "markdown",
   "id": "ab2b4181-2862-414e-8c2b-2cdba126667d",
   "metadata": {},
   "source": [
    "### State the null plus alternate hypothesis"
   ]
  },
  {
   "cell_type": "markdown",
   "id": "721a14cc-359b-4157-aaff-cecdb1186d48",
   "metadata": {},
   "source": [
    "H0: There is no statistical difference between the mean etching rate for different power levels\n",
    "\n",
    "H1 : There is a statistical significant difference between the various groups etching rates for different power levels"
   ]
  },
  {
   "cell_type": "markdown",
   "id": "e8113b70-e096-4de6-ad3d-ab5e07c67ce5",
   "metadata": {},
   "source": [
    "### Significance level\n",
    "\n",
    "We will assume a 5% significance level"
   ]
  },
  {
   "cell_type": "markdown",
   "id": "35069eea-be8d-4d19-a4b4-4ff24fe68e9e",
   "metadata": {},
   "source": [
    "### What are the degrees of freedom of model, error terms, and total DoF\n",
    "- Degress of Freedom: **2 (k - 1, where is the number of groups)**\n",
    "- Error terms: **Type 1 and 2 errors. T1: Reject the H0 when it should have been accepted. T2: False H0 got accepted**\n",
    "- Total DoF: **14 (N -1 , sample size minus 1)**\n"
   ]
  },
  {
   "cell_type": "markdown",
   "id": "338dd32f-8360-44f3-8da1-c272313c9731",
   "metadata": {},
   "source": [
    "## PART 2"
   ]
  },
  {
   "cell_type": "markdown",
   "id": "e246333a-4327-41b6-93fb-4fea55e0897f",
   "metadata": {},
   "source": [
    "In this section, use Python to conduct ANOVA."
   ]
  },
  {
   "cell_type": "code",
   "execution_count": 32,
   "id": "26018c4d-4634-4cdd-b970-facf357b8377",
   "metadata": {},
   "outputs": [],
   "source": [
    "smallW = np.array([5.43,5.71,6.22,6.01,5.59])\n",
    "medW = np.array([6.24,6.71,5.98,5.66,6.60])\n",
    "bigW = np.array([8.79,9.20,7.90,8.15,7.55])"
   ]
  },
  {
   "cell_type": "code",
   "execution_count": 29,
   "id": "1aedf2b7-8087-4b17-b11b-bb3626b0b85d",
   "metadata": {},
   "outputs": [
    {
     "data": {
      "text/plain": [
       "5.8759999999999994"
      ]
     },
     "execution_count": 29,
     "metadata": {},
     "output_type": "execute_result"
    }
   ],
   "source": [
    "smallW.mean()"
   ]
  },
  {
   "cell_type": "code",
   "execution_count": 31,
   "id": "9050f338-476c-4f6e-bb6d-f07302528a01",
   "metadata": {},
   "outputs": [
    {
     "data": {
      "text/plain": [
       "6.2379999999999995"
      ]
     },
     "execution_count": 31,
     "metadata": {},
     "output_type": "execute_result"
    }
   ],
   "source": [
    "medW.mean()"
   ]
  },
  {
   "cell_type": "code",
   "execution_count": 30,
   "id": "224fb994-0def-4eb8-97c9-b84d8d97000b",
   "metadata": {},
   "outputs": [
    {
     "data": {
      "text/plain": [
       "8.318"
      ]
     },
     "execution_count": 30,
     "metadata": {},
     "output_type": "execute_result"
    }
   ],
   "source": [
    "bigW.mean()"
   ]
  },
  {
   "cell_type": "code",
   "execution_count": 27,
   "id": "80356305-10f3-41bc-869c-c131c2aba3f2",
   "metadata": {},
   "outputs": [
    {
     "name": "stdout",
     "output_type": "stream",
     "text": [
      "p value 9.025677030388984e-06\n",
      "reject H0: there is a difference at least between the means of two groups\n"
     ]
    }
   ],
   "source": [
    "F_critical, p_value = stats.f_oneway(smallW,medW,bigW)\n",
    "print(\"p value\", p_value)\n",
    "if p_value < 0.05:\n",
    "    print(\"reject H0: there is a difference at least between the means of the three groups\")\n",
    "else:\n",
    "    print(\"we accept H0: the means are the same\")"
   ]
  },
  {
   "cell_type": "markdown",
   "id": "e952e37b-2524-47fc-bc79-339d334319b4",
   "metadata": {},
   "source": [
    "**Conclusion:** We have to reject the H0. Therefore we can conclude that there is enough statistical evidence that the means between the etching rate for the three different groups of power are not equal "
   ]
  },
  {
   "cell_type": "code",
   "execution_count": null,
   "id": "d5f3925e-8847-4309-9b27-29a21c1973f8",
   "metadata": {},
   "outputs": [],
   "source": []
  }
 ],
 "metadata": {
  "kernelspec": {
   "display_name": "Python 3 (ipykernel)",
   "language": "python",
   "name": "python3"
  },
  "language_info": {
   "codemirror_mode": {
    "name": "ipython",
    "version": 3
   },
   "file_extension": ".py",
   "mimetype": "text/x-python",
   "name": "python",
   "nbconvert_exporter": "python",
   "pygments_lexer": "ipython3",
   "version": "3.9.12"
  }
 },
 "nbformat": 4,
 "nbformat_minor": 5
}
